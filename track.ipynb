{
 "cells": [
  {
   "cell_type": "markdown",
   "id": "ce31d388-07ba-4232-b775-a2c7d4517177",
   "metadata": {},
   "source": [
    "# 物体追跡モデルをダウンロード\n",
    "\n",
    "今回の研究ではyolov5_urlを使用する．\n",
    "\n",
    "ダウンロード済みの場合は以下のコードはスキップされる．（何度もダウンロードされない）\n",
    "\n",
    "（注意）　処理が重いのでGPU使用を推奨する．（パソコンにGPU無ければ，グーグルコラボで）"
   ]
  },
  {
   "cell_type": "code",
   "execution_count": null,
   "id": "5bd28e21-d7fa-4354-bbba-b2453208fe3c",
   "metadata": {},
   "outputs": [],
   "source": [
    "import os\n",
    "\n",
    "# 学習済みモデルのダウンロード\n",
    "# yolov5xのダウンロード(https://github.com/ultralytics/yolov5/releases)\n",
    "yolov5x_url = \"https://github.com/ultralytics/yolov5/releases/download/v7.0/yolov5x.pt\"\n",
    "yolov5x_path = \"./weights/yolov5x.pt\"\n",
    "urllib.request.urlretrieve(yolov5x_url, yolov5x_path)\n",
    "\n",
    "# crowd human特化型yolov5mダウンロード\n",
    "crowdhuman_url = \"https://drive.google.com/uc?id=1gglIwqxaH2iTvy6lZlXuAcMpd_U0GCUb\"\n",
    "crowdhuman_path = \"./weights/crowdhuman_yolov5m.pt\"\n",
    "urllib.request.urlretrieve(crowdhuman_url, crowdhuman_path)\n"
   ]
  },
  {
   "cell_type": "markdown",
   "id": "f55a9b75-f5eb-446a-917e-60779c2a95dc",
   "metadata": {},
   "source": [
    "# 物体追跡モデルを適用\n",
    "- 使用するコマンドについてネットで調べて下さい．\n",
    "- 参考に自分が良く変更するコマンドを説明します．\n",
    "\n",
    "- \"--conf-thres\", \"0.5\" 検出閾値の設定．\n",
    "- \"--save-vid\", 物体追跡モデル適用後のビデオを保存（ビデオの容量が大きいので必要なければ保存しなくてもよい）\n",
    "- \"--save-crop\",　人物画像を切り出し保存する\n",
    "- \"0\", \"1\", \"2\"　検出クラスを指定する\n",
    "  \n",
    "  names: ['person', 'bicycle', 'car', 'motorcycle', 'airplane', 'bus', 'train', 'truck', 'boat', 'traffic light',\r\n",
    "        'fire hydrant', 'stop sign', 'parking meter', 'bench', 'bird', 'cat', 'dog', 'horse', 'sheep', 'cow',\r\n",
    "        'elephant', 'bear', 'zebra', 'giraffe', 'backpack', 'umbrella', 'handbag', 'tie', 'suitcase', 'frisbee',\r\n",
    "        'skis', 'snowboard', 'sports ball', 'kite', 'baseball bat', 'baseball glove', 'skateboard', 'surfboard',\r\n",
    "        'tennis racket', 'bottle', 'wine glass', 'cup', 'fork', 'knife', 'spoon', 'bowl', 'banana', 'apple',\r\n",
    "        'sandwich', 'orange', 'broccoli', 'carrot', 'hot dog', 'pizza', 'donut', 'cake', 'chair', 'couch',\r\n",
    "        'potted plant', 'bed', 'dining table', 'toilet', 'tv', 'laptop', 'mouse', 'remote', 'keyboard', 'cell phone',\r\n",
    "        'microwave', 'oven', 'toaster', 'sink', 'refrigerator', 'book', 'clock', 'vase', 'scissors', 'teddy bear',\r\n",
    "        'hair drier', 'toothbrush']  # class names"
   ]
  },
  {
   "cell_type": "code",
   "execution_count": null,
   "id": "39b2502d-483d-4361-ba5e-038fcaf1ef65",
   "metadata": {},
   "outputs": [],
   "source": [
    "##以下は単体の動画を使用するコード\n",
    "import os\n",
    "import subprocess\n",
    "\n",
    "input_directory = \"./input_video\"\n",
    "output_directory = \"./output_video\"\n",
    "\n",
    "# 指定されたファイル名\n",
    "file_name = \"動画ファイル - OneDrive - 職場 - Microsoft​ Edge 2023-12-19 10-41-19.mp4\"\n",
    "\n",
    "# 入力ファイルのパス\n",
    "input_path = os.path.join(input_directory, file_name)\n",
    "\n",
    "# 出力ファイルのパス\n",
    "output_path = os.path.join(output_directory, file_name)\n",
    "\n",
    "# コマンドの作成\n",
    "command = [\n",
    "    \"python\",\n",
    "    \"track_v5.py\",\n",
    "    \"--source\",\n",
    "    input_path,\n",
    "    \"--yolo-weights\",\n",
    "    \"weights/yolov5x.pt\",\n",
    "    \"--strong-sort-weights\",\n",
    "    \"osnet_x0_25_market1501.pt\",\n",
    "    \"--img\",\n",
    "    \"640\",\n",
    "    \"--conf-thres\", \"0.5\",\n",
    "    \"--save-vid\",\n",
    "    # \"--save-conf\",\n",
    "    \"--save-crop\",\n",
    "    \"--save-txt\",\n",
    "    \"--classes\",\n",
    "    \"0\",\n",
    "    \"1\",\n",
    "    \"2\",\n",
    "    \"--name\",\n",
    "    \"yolov5x\"\n",
    "]\n",
    "\n",
    "try:\n",
    "    subprocess.run(command, check=True)\n",
    "except subprocess.CalledProcessError as e:\n",
    "    print(\"An error occurred:\", e)\n"
   ]
  }
 ],
 "metadata": {
  "kernelspec": {
   "display_name": "Python 3 (ipykernel)",
   "language": "python",
   "name": "python3"
  },
  "language_info": {
   "codemirror_mode": {
    "name": "ipython",
    "version": 3
   },
   "file_extension": ".py",
   "mimetype": "text/x-python",
   "name": "python",
   "nbconvert_exporter": "python",
   "pygments_lexer": "ipython3",
   "version": "3.10.9"
  }
 },
 "nbformat": 4,
 "nbformat_minor": 5
}
